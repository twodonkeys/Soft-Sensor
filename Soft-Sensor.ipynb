{
 "cells": [
  {
   "cell_type": "code",
   "execution_count": 47,
   "metadata": {},
   "outputs": [
    {
     "name": "stdout",
     "output_type": "stream",
     "text": [
      "read successful\n"
     ]
    }
   ],
   "source": [
    "#读取配置文件\n",
    "import configparser\n",
    "import pymysql\n",
    "import numpy as np\n",
    "\n",
    "\n",
    "#软测量类\n",
    "class SoftSensor():\n",
    "    def __init__(self):\n",
    "        #初始化，读取配置文件，执行测量\n",
    "        self.configpath='config/config.ini'\n",
    "        try:\n",
    "            self.read_config()\n",
    "        except Exception as e:\n",
    "            print('read_config error:',e)\n",
    "        else:\n",
    "            print('read over!')\n",
    "        finally:\n",
    "            self.ss()\n",
    "            \n",
    "    def read_config(self,section='Mysql'):\n",
    "        #读取配置文件\n",
    "        try:\n",
    "            config = configparser.ConfigParser()\n",
    "            #config.sections()\n",
    "            #sections()获取ini文件内所有的section，以列表形式返回['logging', 'mysql']\n",
    "            config.read(self.configpath)\n",
    "            self.host = config[section]['host']\n",
    "            self.user = config[section]['user']\n",
    "            self.password = config[section]['password']\n",
    "            self.db = config[section]['db']\n",
    "            self.table = config[section]['table']\n",
    "        except Exception as e:\n",
    "            print('configparser error:',e)\n",
    "            pass\n",
    "            \n",
    "    def write_config(self,section='Mysql',**kw):\n",
    "        #写入配置文件\n",
    "        try:\n",
    "            config = configparser.ConfigParser()\n",
    "            config.read(self.configpath)\n",
    "            #注意：不加read将从头开始写，将抹去之前保存参数,使用了read()之后，是从读取完后的光标开始写入，类似追加模式'a'一样。\n",
    "            config[section] = kw\n",
    "            with open(self.configpath, 'w') as configfile:\n",
    "                config.write(configfile)\n",
    "        except Exception as e:\n",
    "            print('write_config error:',e)\n",
    "    \n",
    "    def remove_config(self,section):\n",
    "        #删除配置文件中某一section\n",
    "        if section!='Mysql':\n",
    "            config = configparser.ConfigParser()\n",
    "            config.read(self.configpath)\n",
    "            try:\n",
    "                config.remove_section(section)\n",
    "            except Exception as e:\n",
    "                print(e)\n",
    "            print('remove',section,'successful')\n",
    "            with open(self.configpath, 'w') as configfile:\n",
    "                config.write(configfile)\n",
    "            #删除完务必保存一遍，否则删除的仅仅是内存中的section\n",
    "            \n",
    "    def ss(self):\n",
    "        db=pymysql.connect(self.host,self.user,self.password,self.db)\n",
    "        cursor=db.cursor()\n",
    "        cursor.execute('select * from %s'%(self.table))\n",
    "        data=cursor.fetchall()\n",
    "        data=\n",
    "        \n",
    "        db = pymysql.connect(ip,name,password,database_name)\n",
    "        cursor = db.cursor()\n",
    "        cursor.execute(select_table)\n",
    "        rows_many = cursor.fetchall()\n",
    "        rows_many = np.matrix(rows_many)\n",
    "        rows_many = np.float32(rows_many)\n",
    "        X_value = rows_many[:, 0:, ]\n",
    "    \n",
    "if __name__=='__main__':\n",
    "    myss=SoftSensor()\n",
    "    #myss.write_config(host='127.0.0.1', user='root',password='123456',db='rfl',table='rflll_1')#第一次执行时配置config文件\n",
    "    "
   ]
  },
  {
   "cell_type": "code",
   "execution_count": null,
   "metadata": {},
   "outputs": [],
   "source": []
  },
  {
   "cell_type": "code",
   "execution_count": null,
   "metadata": {},
   "outputs": [],
   "source": []
  }
 ],
 "metadata": {
  "kernelspec": {
   "display_name": "Python 3",
   "language": "python",
   "name": "python3"
  },
  "language_info": {
   "codemirror_mode": {
    "name": "ipython",
    "version": 3
   },
   "file_extension": ".py",
   "mimetype": "text/x-python",
   "name": "python",
   "nbconvert_exporter": "python",
   "pygments_lexer": "ipython3",
   "version": "3.7.0"
  }
 },
 "nbformat": 4,
 "nbformat_minor": 2
}
